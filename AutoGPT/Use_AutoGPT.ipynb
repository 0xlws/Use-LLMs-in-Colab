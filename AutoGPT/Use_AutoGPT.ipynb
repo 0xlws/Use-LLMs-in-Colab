{
  "nbformat": 4,
  "nbformat_minor": 0,
  "metadata": {
    "colab": {
      "provenance": []
    },
    "kernelspec": {
      "name": "python3",
      "display_name": "Python 3"
    },
    "language_info": {
      "name": "python"
    }
  },
  "cells": [
    {
      "cell_type": "markdown",
      "source": [
        "- openai-api-keys获取地址：https://platform.openai.com/account/api-keys\n",
        "- 谷歌API:https://console.cloud.google.com/apis/credentials?project=stately-forest-383704\n",
        "- 谷歌搜索apikey:https://programmablesearchengine.google.com/controlpanel/overview\n",
        "- 视频参考：https://www.bilibili.com/video/BV1HV4y1Z7dm\n",
        "\n",
        "> 如果官方项目出错，请下载`Auto-GPT.zip`配合使用"
      ],
      "metadata": {
        "id": "2VQKLsUM6Qc2"
      }
    },
    {
      "cell_type": "code",
      "execution_count": 1,
      "metadata": {
        "id": "DOyASUolVgA2",
        "colab": {
          "base_uri": "https://localhost:8080/"
        },
        "outputId": "f479cfc3-1a11-4745-8b68-d9e5cd4d53ba"
      },
      "outputs": [
        {
          "output_type": "stream",
          "name": "stdout",
          "text": [
            "Mounted at /content/drive\n"
          ]
        }
      ],
      "source": [
        "#@title 连接到你的云端硬盘\n",
        "from google.colab import drive\n",
        "drive.mount('/content/drive')"
      ]
    },
    {
      "cell_type": "code",
      "source": [
        "cd drive/MyDrive"
      ],
      "metadata": {
        "id": "IjbKNNZyaa6f",
        "colab": {
          "base_uri": "https://localhost:8080/"
        },
        "outputId": "277774cf-0091-4ea4-ae11-c647ac47fa34"
      },
      "execution_count": 2,
      "outputs": [
        {
          "output_type": "stream",
          "name": "stdout",
          "text": [
            "/content/drive/MyDrive\n"
          ]
        }
      ]
    },
    {
      "cell_type": "code",
      "source": [
        "#克隆github项目到云端硬盘，这样数据就可以保存到云端硬盘里，不怕丢失\n",
        "!git clone https://github.com/Significant-Gravitas/Auto-GPT.git -b stable"
      ],
      "metadata": {
        "id": "_i-Ed5HtWHNV",
        "colab": {
          "base_uri": "https://localhost:8080/"
        },
        "outputId": "5f7ddaa0-e72f-48ff-fcd7-ab284a11d171"
      },
      "execution_count": 3,
      "outputs": [
        {
          "output_type": "stream",
          "name": "stdout",
          "text": [
            "Cloning into 'Auto-GPT'...\n",
            "remote: Enumerating objects: 5712, done.\u001b[K\n",
            "remote: Counting objects: 100% (12/12), done.\u001b[K\n",
            "remote: Compressing objects: 100% (11/11), done.\u001b[K\n",
            "remote: Total 5712 (delta 4), reused 3 (delta 1), pack-reused 5700\u001b[K\n",
            "Receiving objects: 100% (5712/5712), 1.75 MiB | 6.62 MiB/s, done.\n",
            "Resolving deltas: 100% (3832/3832), done.\n"
          ]
        }
      ]
    },
    {
      "cell_type": "code",
      "source": [
        "cd Auto-GPT"
      ],
      "metadata": {
        "id": "n-YhxKpyDx5l",
        "colab": {
          "base_uri": "https://localhost:8080/"
        },
        "outputId": "42e79336-1c9f-4fbb-bc81-c5dd654fbe09"
      },
      "execution_count": 4,
      "outputs": [
        {
          "output_type": "stream",
          "name": "stdout",
          "text": [
            "/content/drive/MyDrive/Auto-GPT\n"
          ]
        }
      ]
    },
    {
      "cell_type": "code",
      "source": [
        "#@title 安装程序运行的依赖\n",
        "!pip install -r requirements.txt"
      ],
      "metadata": {
        "id": "U9NwUFfRWLMk"
      },
      "execution_count": null,
      "outputs": []
    },
    {
      "cell_type": "code",
      "source": [
        "#@title 修改.env文件为txt文件（这样做是因为没有找到可以在Colab中直接打开.env的方法），执行完这步后打开env.txt文件，编辑各种你自己的API信息\n",
        "# 需要加入以下API信息：\n",
        "# OPENAI_API_KEY\n",
        "# GOOGLE_API_KEY\n",
        "# CUSTOM_SEARCH_ENGINE_ID\n",
        "!mv .env.template env.txt"
      ],
      "metadata": {
        "id": "USw7yNqeZ2SE"
      },
      "execution_count": 6,
      "outputs": []
    },
    {
      "cell_type": "code",
      "source": [
        "#@title 修改完后将文件重命名为.env\n",
        "!mv env.txt .env"
      ],
      "metadata": {
        "id": "nBtGjMDObMOv"
      },
      "execution_count": 7,
      "outputs": []
    },
    {
      "cell_type": "code",
      "source": [
        "#@title 设定AI角色身份及任务（ai_goals最多填写5个），只要更换下面中文的区域，其它不要变\n",
        "#ai_goals:\n",
        "# - 目标1\n",
        "# - 目标2\n",
        "# - 目标3\n",
        "# - 目标4\n",
        "# - 目标5\n",
        "# ai_name: AI的名字\n",
        "# ai_role: AI的角色描述\n",
        "# 写好后替换下面代码\n",
        "\n",
        "%%writefile ai_settings.yaml\n",
        "ai_goals:\n",
        "- search news in the internet about AI\n",
        "- summarized the news into \"news.txt\"\n",
        "- shutdown after finish\n",
        "- \n",
        "- \n",
        "ai_name: writer_2\n",
        "ai_role: an AI design to write articles"
      ],
      "metadata": {
        "id": "d7WokQjdSfjg",
        "colab": {
          "base_uri": "https://localhost:8080/"
        },
        "outputId": "83d94473-2191-4043-85d8-b91dffcaa876"
      },
      "execution_count": 8,
      "outputs": [
        {
          "output_type": "stream",
          "name": "stdout",
          "text": [
            "Writing ai_settings.yaml\n"
          ]
        }
      ]
    },
    {
      "cell_type": "code",
      "source": [
        "#@title 运行主程序（如果是GPT4，要删除--gpt3only）\n",
        "!python -m autogpt --continuous --gpt3only --ai-settings ai_settings.yaml"
      ],
      "metadata": {
        "id": "FvAOeZx8gTAT"
      },
      "execution_count": null,
      "outputs": []
    },
    {
      "cell_type": "code",
      "source": [
        "#@title 更新AutoGPT项目(不需要每次都执行。有概率在更新后，代码出现bug)\n",
        "!git pull"
      ],
      "metadata": {
        "id": "wdgoG0QEjQ1k"
      },
      "execution_count": null,
      "outputs": []
    },
    {
      "cell_type": "code",
      "source": [
        "#@title 按上述步骤出现问题，请执行以下代后，重新从第一步开始\n",
        "!rm -rf /content/drive/MyDrive/Auto-GPT"
      ],
      "metadata": {
        "id": "2ZwV_lMwlc97"
      },
      "execution_count": null,
      "outputs": []
    },
    {
      "cell_type": "code",
      "source": [
        "cd /content"
      ],
      "metadata": {
        "colab": {
          "base_uri": "https://localhost:8080/"
        },
        "id": "TmNmlN2vmhGY",
        "outputId": "382e9f52-1607-4575-9814-d3e42cb0fdc7"
      },
      "execution_count": null,
      "outputs": [
        {
          "output_type": "stream",
          "name": "stdout",
          "text": [
            "/content\n"
          ]
        }
      ]
    }
  ]
}