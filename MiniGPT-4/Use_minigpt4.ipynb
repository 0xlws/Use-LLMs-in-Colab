{
  "nbformat": 4,
  "nbformat_minor": 0,
  "metadata": {
    "colab": {
      "provenance": [],
      "gpuType": "A100",
      "machine_shape": "hm"
    },
    "kernelspec": {
      "name": "python3",
      "display_name": "Python 3"
    },
    "language_info": {
      "name": "python"
    },
    "gpuClass": "standard",
    "accelerator": "GPU"
  },
  "cells": [
    {
      "cell_type": "markdown",
      "source": [
        "# **Notebook From:**\n",
        "# **https://github.com/WangRongsheng**\n",
        "# **https://github.com/Vision-CAIR/MiniGPT-4**\n"
      ],
      "metadata": {
        "id": "uLIIr6ASgOea"
      }
    },
    {
      "cell_type": "markdown",
      "source": [
        "## Now you can use MiniGPT-4 13B/7B in Google Colab\n",
        "\n",
        "## <font color=\"#dd0000\">Notice</font>\n",
        "\n",
        "1. You should be a **Google Colab Pro** user.\n",
        "2. You must use **high level GPU**.\n",
        "\n",
        "Otherwise you will not be able to run MiniGPT-4 in colab!!!\n",
        "\n",
        "\n",
        "| Model Variant | Created From |\n",
        "|---|---|\n",
        "| 7B: `wangrongsheng/MiniGPT-4-LLaMA-7B`| `vicuna-7b-delta-v0` and `llama-7b-hf` |\n",
        "| 13B:  `wangrongsheng/MiniGPT-4-LLaMA` |`vicuna-13b-delta-v0` and `llama-13b-hf` |"
      ],
      "metadata": {
        "id": "wJNQu3Tj9mla"
      }
    },
    {
      "cell_type": "code",
      "source": [
        "#@markdown # Check GPU\n",
        "!nvidia-smi"
      ],
      "metadata": {
        "id": "IQiobft0yXpg",
        "cellView": "form"
      },
      "execution_count": null,
      "outputs": []
    },
    {
      "cell_type": "code",
      "source": [
        "# source https://github.com/TheLastBen/fast-stable-diffusion/blob/main/fast_stable_diffusion_AUTOMATIC1111.ipynb\n",
        "#@markdown # Connect Google Drive\n",
        "from google.colab import drive\n",
        "import os\n",
        "\n",
        "Shared_Drive = \"\" #@param {type:\"string\"}\n",
        "#@markdown - Leave empty if you're not using a shared drive\n",
        "\n",
        "print(\"Connecting...\")\n",
        "drive.mount('/content/gdrive')\n",
        "\n",
        "if Shared_Drive!=\"\" and os.path.exists(\"/content/gdrive/Shareddrives\"):\n",
        "  mainpth=\"Shareddrives/\"+Shared_Drive \n",
        "else:\n",
        "  mainpth=\"MyDrive\"\n",
        "\n",
        "print(\"\\u2714 Google Drive connected successfully\")\n"
      ],
      "metadata": {
        "cellView": "form",
        "id": "KsCjhBffh8Jw"
      },
      "execution_count": null,
      "outputs": []
    },
    {
      "cell_type": "code",
      "source": [
        "#@markdown # Clone repo\n",
        "\n",
        "import os\n",
        "import time\n",
        "\n",
        "mainpth = \"MyDrive\"\n",
        "\n",
        "if not os.path.exists(\"/content/gdrive\"):\n",
        "    print('Gdrive not connected, using colab storage ...')\n",
        "    time.sleep(4)\n",
        "    !mkdir -p /content/gdrive/$mainpth\n",
        "    Shared_Drive = \"\"\n",
        "\n",
        "if Shared_Drive != \"\" and not os.path.exists(\"/content/gdrive/Shareddrives\"):\n",
        "    print('Shared drive not detected, using default MyDrive')\n",
        "    mainpth = \"MyDrive\"\n",
        "\n",
        "%cd /content/gdrive/$mainpth\n",
        "!git clone https://github.com/Vision-CAIR/MiniGPT-4.git\n",
        "\n",
        "print(\"Done\")"
      ],
      "metadata": {
        "cellView": "form",
        "id": "e4BPj_HuiE4n"
      },
      "execution_count": null,
      "outputs": []
    },
    {
      "cell_type": "code",
      "source": [
        "#@markdown # Install Requirements \n",
        "%cd MiniGPT-4/\n",
        "!wget -O requirements.txt https://raw.githubusercontent.com/WangRongsheng/Use-LLMs-in-Colab/main/MiniGPT-4/requirements.txt\n",
        "!pip install -qr requirements.txt\n",
        "\n",
        "!pip install -q salesforce-lavis\n",
        "!pip install -q bitsandbytes\n",
        "!pip install -q accelerate\n",
        "!pip install -q gradio==3.27.0\n",
        "\n",
        "!pip install -q h5py\n",
        "!pip install -q typing-extensions\n",
        "!pip install -q wheel\n",
        "!pip install -q git+https://github.com/huggingface/transformers.git -U"
      ],
      "metadata": {
        "id": "XPWawh6y_jZ-",
        "cellView": "form"
      },
      "execution_count": null,
      "outputs": []
    },
    {
      "cell_type": "code",
      "source": [
        "#@markdown # Choose and download pretrained_minigpt4\n",
        "Model_Version = \"7B\" #@param [\"13B\", \"7B\"]\n",
        "\n",
        "if Model_Version == \"13B\":\n",
        "    !wget -O models/pretrained_minigpt4.pth https://huggingface.co/wangrongsheng/MiniGPT4/resolve/main/pretrained_minigpt4.pth\n",
        "elif Model_Version == \"7B\":\n",
        "    !wget -O models/prerained_minigpt4_7b.pth https://huggingface.co/wangrongsheng/MiniGPT4-7B/resolve/main/prerained_minigpt4_7b.pth\n",
        "\n",
        "#@title Choose your model\n",
        "llama_model = Model_Version\n",
        "\n",
        "if llama_model == \"13B\":\n",
        "    !sed -i 's|llama_model:.*|llama_model: \"wangrongsheng/MiniGPT-4-LLaMA\"|' minigpt4/configs/models/minigpt4.yaml\n",
        "    !sed -i 's|ckpt:.*|ckpt: \"models/pretrained_minigpt4.pth\"|' eval_configs/minigpt4_eval.yaml\n",
        "else:\n",
        "    !sed -i 's|llama_model:.*|llama_model: \"wangrongsheng/MiniGPT-4-LLaMA-7B\"|' minigpt4/configs/models/minigpt4.yaml\n",
        "    !sed -i 's|ckpt:.*|ckpt: \"models/prerained_minigpt4_7b.pth\"|' eval_configs/minigpt4_eval.yaml\n"
      ],
      "metadata": {
        "cellView": "form",
        "id": "IjJJfp7M2E0K"
      },
      "execution_count": null,
      "outputs": []
    },
    {
      "cell_type": "code",
      "source": [
        "#@markdown # Run MiniGPT-4\n",
        "#@markdown #### If the cell stops/error during startup you probably need more VRAM \n",
        "!python demo.py --cfg-path eval_configs/minigpt4_eval.yaml --gpu-id 0"
      ],
      "metadata": {
        "id": "IoPqDP4WC_km",
        "cellView": "form"
      },
      "execution_count": null,
      "outputs": []
    }
  ]
}
